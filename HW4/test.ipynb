{
  "nbformat": 4,
  "nbformat_minor": 0,
  "metadata": {
    "colab": {
      "name": "Untitled0.ipynb",
      "provenance": [],
      "authorship_tag": "ABX9TyMnx9GRGLMG475HO36kP24G",
      "include_colab_link": true
    },
    "kernelspec": {
      "name": "python3",
      "display_name": "Python 3"
    },
    "language_info": {
      "name": "python"
    }
  },
  "cells": [
    {
      "cell_type": "markdown",
      "metadata": {
        "id": "view-in-github",
        "colab_type": "text"
      },
      "source": [
        "<a href=\"https://colab.research.google.com/github/laynotena/Data-Mining/blob/main/HW4/test.ipynb\" target=\"_parent\"><img src=\"https://colab.research.google.com/assets/colab-badge.svg\" alt=\"Open In Colab\"/></a>"
      ]
    },
    {
      "cell_type": "code",
      "metadata": {
        "id": "SZDAVpnUA0o6"
      },
      "source": [
        "import numpy as np\n",
        "import pandas as pd\n",
        "from keras.preprocessing import sequence\n",
        "from keras.preprocessing.text import Tokenizer\n",
        "from keras.models import Sequential\n",
        "from keras.layers.core import Dense,Dropout,Activation,Flatten\n",
        "from keras.layers.embeddings import Embedding\n",
        "from keras.layers.recurrent import SimpleRNN\n",
        "import matplotlib.pyplot as plt"
      ],
      "execution_count": 15,
      "outputs": []
    },
    {
      "cell_type": "code",
      "metadata": {
        "id": "ZquaDxcBHqmb"
      },
      "source": [
        "def data_generate(data):\n",
        "    label = []\n",
        "    text = []\n",
        "    for i in range(len(data)):\n",
        "        label.append(data.emoticon[i][0])\n",
        "        text.append(data.emoticon[i][9:])\n",
        "    df = pd.DataFrame(data = label, columns=['label'])\n",
        "    df['text'] = text\n",
        "    return df"
      ],
      "execution_count": 2,
      "outputs": []
    },
    {
      "cell_type": "code",
      "metadata": {
        "id": "vLX2SSSIg116"
      },
      "source": [
        "def plot(train_history,train,validation):\n",
        "    plt.plot(train_history.history[train])\n",
        "    plt.plot(train_history.history[validation])\n",
        "    plt.title('Train History')\n",
        "    plt.ylabel(train)\n",
        "    plt.xlabel('Epoch')\n",
        "    plt.legend(['train', 'validation'], loc='upper left')\n",
        "    plt.show()"
      ],
      "execution_count": 25,
      "outputs": []
    },
    {
      "cell_type": "code",
      "metadata": {
        "id": "KNvBaJl0YSwr"
      },
      "source": [
        "class RNN():\n",
        "    def __init__(self, input_length=380, input_dim=3800, output_dim=32):\n",
        "        self.rnn = Sequential()\n",
        "        self.rnn.add(Embedding(input_length = input_length, input_dim = input_dim, output_dim = output_dim ))\n",
        "        self.rnn.add(Dropout(0.7))\n",
        "    def build_in(self):\n",
        "        self.rnn.add(SimpleRNN(units=16))\n",
        "        self.rnn.add(Dense(units=256,activation='relu'))\n",
        "        self.rnn.add(Dropout(0.7))\n",
        "        self.rnn.add(Dense(units=1,activation='sigmoid'))\n",
        "    def evaluation(self,X_train, Y_train, X_test, Y_test):\n",
        "        self.rnn.summary()\n",
        "        self.rnn.compile(loss='binary_crossentropy',optimizer='adam',metrics=['accuracy'])\n",
        "        self.train_history = self.rnn.fit(X_train,Y_train,epochs=10,batch_size=100,verbose=2,validation_split=0.2)\n",
        "        self.scores = self.rnn.evaluate(X_test, Y_test, verbose=1)\n",
        "        print('the acc for RNN is : ', self.scores[1])"
      ],
      "execution_count": 18,
      "outputs": []
    },
    {
      "cell_type": "markdown",
      "metadata": {
        "id": "COeAhtudHv3C"
      },
      "source": [
        "###1. 資料前處理"
      ]
    },
    {
      "cell_type": "code",
      "metadata": {
        "id": "dvN7rh-iQjXE"
      },
      "source": [
        "training = pd.read_csv('training_label.txt', delimiter = \"\\t\",names = ['emoticon'])\n",
        "testing = pd.read_csv('testing_label.txt',delimiter = \"\\t\", names = ['emoticon'])"
      ],
      "execution_count": 3,
      "outputs": []
    },
    {
      "cell_type": "markdown",
      "metadata": {
        "id": "q5V2WZ4iJD5y"
      },
      "source": [
        "#### 1-a. 建立 train, test 之 DataFrame"
      ]
    },
    {
      "cell_type": "code",
      "metadata": {
        "id": "YPeqVJagB-c_"
      },
      "source": [
        "train = data_generate(training)\n",
        "test = data_generate(testing)"
      ],
      "execution_count": 4,
      "outputs": []
    },
    {
      "cell_type": "code",
      "metadata": {
        "id": "19FS8jOWJmwa"
      },
      "source": [
        "Y_train = train['label'].astype(int)\n",
        "Y_test = test['label'].astype(int)"
      ],
      "execution_count": 10,
      "outputs": []
    },
    {
      "cell_type": "markdown",
      "metadata": {
        "id": "Xg1veS19JxKi"
      },
      "source": [
        "#### 1-b. 建立 Token"
      ]
    },
    {
      "cell_type": "code",
      "metadata": {
        "id": "DNYMAkr5JmgL"
      },
      "source": [
        "#建立字典\n",
        "token = Tokenizer(num_words = 3800)\n",
        "#訓練字典\n",
        "token.fit_on_texts(train.text)\n",
        "#轉換文本\n",
        "X_train_seq = token.texts_to_sequences(train.text)\n",
        "X_test_seq = token.texts_to_sequences(test.text)"
      ],
      "execution_count": 6,
      "outputs": []
    },
    {
      "cell_type": "markdown",
      "metadata": {
        "id": "KBRtWBSnO8JC"
      },
      "source": [
        "#### 1-c. Padding"
      ]
    },
    {
      "cell_type": "code",
      "metadata": {
        "id": "-H_-_q-AJmna"
      },
      "source": [
        "X_train = sequence.pad_sequences(X_train_seq, maxlen=380)\n",
        "X_test = sequence.pad_sequences(X_test_seq, maxlen=380)"
      ],
      "execution_count": 7,
      "outputs": []
    },
    {
      "cell_type": "markdown",
      "metadata": {
        "id": "KIOABynsGLqL"
      },
      "source": [
        "### 2. RNN"
      ]
    },
    {
      "cell_type": "code",
      "metadata": {
        "colab": {
          "base_uri": "https://localhost:8080/"
        },
        "id": "Hpb4hWw-Coa2",
        "outputId": "6b4f4823-c0e7-4f5e-f61a-dbbe3cd479ba"
      },
      "source": [
        "model_RNN = RNN()\n",
        "model_RNN.build_in()\n",
        "model_RNN.evaluation(X_train, Y_train, X_test, Y_test)"
      ],
      "execution_count": 11,
      "outputs": [
        {
          "output_type": "stream",
          "text": [
            "Model: \"sequential_1\"\n",
            "_________________________________________________________________\n",
            "Layer (type)                 Output Shape              Param #   \n",
            "=================================================================\n",
            "embedding_1 (Embedding)      (None, 380, 32)           121600    \n",
            "_________________________________________________________________\n",
            "dropout_2 (Dropout)          (None, 380, 32)           0         \n",
            "_________________________________________________________________\n",
            "simple_rnn_1 (SimpleRNN)     (None, 16)                784       \n",
            "_________________________________________________________________\n",
            "dense_2 (Dense)              (None, 256)               4352      \n",
            "_________________________________________________________________\n",
            "dropout_3 (Dropout)          (None, 256)               0         \n",
            "_________________________________________________________________\n",
            "dense_3 (Dense)              (None, 1)                 257       \n",
            "=================================================================\n",
            "Total params: 126,993\n",
            "Trainable params: 126,993\n",
            "Non-trainable params: 0\n",
            "_________________________________________________________________\n",
            "Epoch 1/10\n",
            "1600/1600 - 144s - loss: 0.5371 - accuracy: 0.7275 - val_loss: 0.4722 - val_accuracy: 0.7803\n",
            "Epoch 2/10\n",
            "1600/1600 - 143s - loss: 0.4835 - accuracy: 0.7736 - val_loss: 0.4659 - val_accuracy: 0.7836\n",
            "Epoch 3/10\n",
            "1600/1600 - 145s - loss: 0.4875 - accuracy: 0.7702 - val_loss: 0.4683 - val_accuracy: 0.7855\n",
            "Epoch 4/10\n",
            "1600/1600 - 145s - loss: 0.4812 - accuracy: 0.7756 - val_loss: 0.4661 - val_accuracy: 0.7842\n",
            "Epoch 5/10\n",
            "1600/1600 - 145s - loss: 0.4723 - accuracy: 0.7827 - val_loss: 0.4695 - val_accuracy: 0.7813\n",
            "Epoch 6/10\n",
            "1600/1600 - 142s - loss: 0.4699 - accuracy: 0.7833 - val_loss: 0.4664 - val_accuracy: 0.7850\n",
            "Epoch 7/10\n",
            "1600/1600 - 142s - loss: 0.4651 - accuracy: 0.7854 - val_loss: 0.4613 - val_accuracy: 0.7861\n",
            "Epoch 8/10\n",
            "1600/1600 - 150s - loss: 0.4629 - accuracy: 0.7840 - val_loss: 0.4584 - val_accuracy: 0.7863\n",
            "Epoch 9/10\n",
            "1600/1600 - 152s - loss: 0.4582 - accuracy: 0.7876 - val_loss: 0.4571 - val_accuracy: 0.7861\n",
            "Epoch 10/10\n",
            "1600/1600 - 152s - loss: 0.4558 - accuracy: 0.7877 - val_loss: 0.4547 - val_accuracy: 0.7887\n",
            "3/3 [==============================] - 1s 19ms/step - loss: 0.4429 - accuracy: 0.8222\n",
            "the acc for RNN is :  0.8222222328186035\n"
          ],
          "name": "stdout"
        }
      ]
    },
    {
      "cell_type": "code",
      "metadata": {
        "colab": {
          "base_uri": "https://localhost:8080/"
        },
        "id": "f55RuhmqhNl6",
        "outputId": "08a59b02-6888-4a04-f4ac-c510e13b4cef"
      },
      "source": [
        "model_RNN.train_history.history"
      ],
      "execution_count": 27,
      "outputs": [
        {
          "output_type": "execute_result",
          "data": {
            "text/plain": [
              "{'accuracy': [0.7274937629699707,\n",
              "  0.7736062407493591,\n",
              "  0.7702312469482422,\n",
              "  0.7756249904632568,\n",
              "  0.7826562523841858,\n",
              "  0.783287525177002,\n",
              "  0.7853749990463257,\n",
              "  0.7840499877929688,\n",
              "  0.7876187562942505,\n",
              "  0.7877062559127808],\n",
              " 'loss': [0.5370564460754395,\n",
              "  0.48354896903038025,\n",
              "  0.4874587059020996,\n",
              "  0.4811769127845764,\n",
              "  0.4723024070262909,\n",
              "  0.4698943495750427,\n",
              "  0.4650973975658417,\n",
              "  0.4629032611846924,\n",
              "  0.4581882953643799,\n",
              "  0.4557715952396393],\n",
              " 'val_accuracy': [0.7803249955177307,\n",
              "  0.7835749983787537,\n",
              "  0.7854750156402588,\n",
              "  0.7841749787330627,\n",
              "  0.7813249826431274,\n",
              "  0.784974992275238,\n",
              "  0.786050021648407,\n",
              "  0.7862750291824341,\n",
              "  0.7861250042915344,\n",
              "  0.7887250185012817],\n",
              " 'val_loss': [0.4721515476703644,\n",
              "  0.4659183621406555,\n",
              "  0.4683130383491516,\n",
              "  0.46612411737442017,\n",
              "  0.4694828987121582,\n",
              "  0.4663850963115692,\n",
              "  0.4613434970378876,\n",
              "  0.4584132432937622,\n",
              "  0.4571187496185303,\n",
              "  0.4547019600868225]}"
            ]
          },
          "metadata": {
            "tags": []
          },
          "execution_count": 27
        }
      ]
    },
    {
      "cell_type": "code",
      "metadata": {
        "colab": {
          "base_uri": "https://localhost:8080/",
          "height": 295
        },
        "id": "--ls6hv0WUNy",
        "outputId": "a24d9371-50b4-4f9a-bcea-3f5b5aabb831"
      },
      "source": [
        "plot(model_RNN.train_history,'accuracy','val_accuracy')"
      ],
      "execution_count": 28,
      "outputs": [
        {
          "output_type": "display_data",
          "data": {
            "image/png": "[encoded data removed]",
            "text/plain": [
              "<Figure size 432x288 with 1 Axes>"
            ]
          },
          "metadata": {
            "tags": [],
            "needs_background": "light"
          }
        }
      ]
    },
    {
      "cell_type": "code",
      "metadata": {
        "colab": {
          "base_uri": "https://localhost:8080/",
          "height": 295
        },
        "id": "UP6I28iBgmj9",
        "outputId": "edc2943a-d8fa-40ad-eab2-212748db0bf7"
      },
      "source": [
        "plot(model_RNN.train_history,'loss','val_loss')"
      ],
      "execution_count": 30,
      "outputs": [
        {
          "output_type": "display_data",
          "data": {
            "image/png": "[encoded data removed]",
            "text/plain": [
              "<Figure size 432x288 with 1 Axes>"
            ]
          },
          "metadata": {
            "tags": [],
            "needs_background": "light"
          }
        }
      ]
    }
  ]
}